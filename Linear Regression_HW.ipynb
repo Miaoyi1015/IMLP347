{
 "cells": [
  {
   "cell_type": "markdown",
   "metadata": {},
   "source": [
    "## 基礎題 - 算出斜率w與截距b\n",
    "\n",
    "y = wx + b\n",
    "\n",
    "記得計算前X須符合資料格式\n",
    "$$[x_1, x_2, \\ldots, x_{50}]$$\n",
    "\n",
    "==> \n",
    "\n",
    "$$[[x_1], [x_2], \\ldots, [x_{50}]]$$"
   ]
  },
  {
   "cell_type": "code",
   "execution_count": 3,
   "metadata": {},
   "outputs": [],
   "source": [
    "%matplotlib inline\n",
    "import numpy as np\n",
    "import matplotlib.pyplot as plt"
   ]
  },
  {
   "cell_type": "code",
   "execution_count": 11,
   "metadata": {},
   "outputs": [],
   "source": [
    "x = np.array([ 0.        ,  0.20408163,  0.40816327,  0.6122449 ,  0.81632653,\n",
    "        1.02040816,  1.2244898 ,  1.42857143,  1.63265306,  1.83673469,\n",
    "        2.04081633,  2.24489796,  2.44897959,  2.65306122,  2.85714286,\n",
    "        3.06122449,  3.26530612,  3.46938776,  3.67346939,  3.87755102,\n",
    "        4.08163265,  4.28571429,  4.48979592,  4.69387755,  4.89795918,\n",
    "        5.10204082,  5.30612245,  5.51020408,  5.71428571,  5.91836735,\n",
    "        6.12244898,  6.32653061,  6.53061224,  6.73469388,  6.93877551,\n",
    "        7.14285714,  7.34693878,  7.55102041,  7.75510204,  7.95918367,\n",
    "        8.16326531,  8.36734694,  8.57142857,  8.7755102 ,  8.97959184,\n",
    "        9.18367347,  9.3877551 ,  9.59183673,  9.79591837, 10.        ])\n",
    "y = np.array([ 0.85848224, -0.10657947,  1.42771901,  0.53554778,  1.20216826,\n",
    "        1.81330509,  1.88362644,  2.23557653,  2.7384889 ,  3.41174583,\n",
    "        4.08573636,  3.82529502,  4.39723111,  4.8852381 ,  4.70092778,\n",
    "        4.66993962,  6.05133235,  5.44529881,  7.22571332,  6.79423911,\n",
    "        7.05424438,  7.00413058,  7.98149596,  7.00044008,  7.95903855,\n",
    "        9.96125238,  9.06040794,  9.56018295,  9.30035956,  9.26517614,\n",
    "        9.56401824, 10.07659844, 11.56755942, 11.38956185, 11.83586027,\n",
    "       12.45642786, 11.58403954, 11.60186428, 13.88486667, 13.35550112,\n",
    "       13.93938726, 13.31678277, 13.69551472, 14.76548676, 14.81731598,\n",
    "       14.9659187 , 15.19213921, 15.28195017, 15.97997265, 16.41258817])"
   ]
  },
  {
   "cell_type": "code",
   "execution_count": null,
   "metadata": {},
   "outputs": [],
   "source": [
    "#匯入在sklearn.linear_model套件裡面的LinearRegression模型\n",
    "#將模型工具指派給一變數做使用\n",
    "#注意轉換x得格式1D->2D\n",
    "#將x,y資料導入LinearRegression演算法做訓練\n",
    "#列印出訓練完成之函數的斜率與截距"
   ]
  },
  {
   "cell_type": "code",
   "execution_count": 12,
   "metadata": {},
   "outputs": [],
   "source": [
    "from sklearn.linear_model import LinearRegression\n",
    "regr_lin = LinearRegression()"
   ]
  },
  {
   "cell_type": "code",
   "execution_count": 13,
   "metadata": {},
   "outputs": [
    {
     "name": "stdout",
     "output_type": "stream",
     "text": [
      "(50,)\n"
     ]
    },
    {
     "data": {
      "text/plain": [
       "(50, 1)"
      ]
     },
     "execution_count": 13,
     "metadata": {},
     "output_type": "execute_result"
    }
   ],
   "source": [
    "print(x.shape)\n",
    "X = x.reshape(-1,1)\n",
    "X.shape"
   ]
  },
  {
   "cell_type": "code",
   "execution_count": 14,
   "metadata": {},
   "outputs": [
    {
     "data": {
      "text/html": [
       "<style>#sk-container-id-1 {color: black;background-color: white;}#sk-container-id-1 pre{padding: 0;}#sk-container-id-1 div.sk-toggleable {background-color: white;}#sk-container-id-1 label.sk-toggleable__label {cursor: pointer;display: block;width: 100%;margin-bottom: 0;padding: 0.3em;box-sizing: border-box;text-align: center;}#sk-container-id-1 label.sk-toggleable__label-arrow:before {content: \"▸\";float: left;margin-right: 0.25em;color: #696969;}#sk-container-id-1 label.sk-toggleable__label-arrow:hover:before {color: black;}#sk-container-id-1 div.sk-estimator:hover label.sk-toggleable__label-arrow:before {color: black;}#sk-container-id-1 div.sk-toggleable__content {max-height: 0;max-width: 0;overflow: hidden;text-align: left;background-color: #f0f8ff;}#sk-container-id-1 div.sk-toggleable__content pre {margin: 0.2em;color: black;border-radius: 0.25em;background-color: #f0f8ff;}#sk-container-id-1 input.sk-toggleable__control:checked~div.sk-toggleable__content {max-height: 200px;max-width: 100%;overflow: auto;}#sk-container-id-1 input.sk-toggleable__control:checked~label.sk-toggleable__label-arrow:before {content: \"▾\";}#sk-container-id-1 div.sk-estimator input.sk-toggleable__control:checked~label.sk-toggleable__label {background-color: #d4ebff;}#sk-container-id-1 div.sk-label input.sk-toggleable__control:checked~label.sk-toggleable__label {background-color: #d4ebff;}#sk-container-id-1 input.sk-hidden--visually {border: 0;clip: rect(1px 1px 1px 1px);clip: rect(1px, 1px, 1px, 1px);height: 1px;margin: -1px;overflow: hidden;padding: 0;position: absolute;width: 1px;}#sk-container-id-1 div.sk-estimator {font-family: monospace;background-color: #f0f8ff;border: 1px dotted black;border-radius: 0.25em;box-sizing: border-box;margin-bottom: 0.5em;}#sk-container-id-1 div.sk-estimator:hover {background-color: #d4ebff;}#sk-container-id-1 div.sk-parallel-item::after {content: \"\";width: 100%;border-bottom: 1px solid gray;flex-grow: 1;}#sk-container-id-1 div.sk-label:hover label.sk-toggleable__label {background-color: #d4ebff;}#sk-container-id-1 div.sk-serial::before {content: \"\";position: absolute;border-left: 1px solid gray;box-sizing: border-box;top: 0;bottom: 0;left: 50%;z-index: 0;}#sk-container-id-1 div.sk-serial {display: flex;flex-direction: column;align-items: center;background-color: white;padding-right: 0.2em;padding-left: 0.2em;position: relative;}#sk-container-id-1 div.sk-item {position: relative;z-index: 1;}#sk-container-id-1 div.sk-parallel {display: flex;align-items: stretch;justify-content: center;background-color: white;position: relative;}#sk-container-id-1 div.sk-item::before, #sk-container-id-1 div.sk-parallel-item::before {content: \"\";position: absolute;border-left: 1px solid gray;box-sizing: border-box;top: 0;bottom: 0;left: 50%;z-index: -1;}#sk-container-id-1 div.sk-parallel-item {display: flex;flex-direction: column;z-index: 1;position: relative;background-color: white;}#sk-container-id-1 div.sk-parallel-item:first-child::after {align-self: flex-end;width: 50%;}#sk-container-id-1 div.sk-parallel-item:last-child::after {align-self: flex-start;width: 50%;}#sk-container-id-1 div.sk-parallel-item:only-child::after {width: 0;}#sk-container-id-1 div.sk-dashed-wrapped {border: 1px dashed gray;margin: 0 0.4em 0.5em 0.4em;box-sizing: border-box;padding-bottom: 0.4em;background-color: white;}#sk-container-id-1 div.sk-label label {font-family: monospace;font-weight: bold;display: inline-block;line-height: 1.2em;}#sk-container-id-1 div.sk-label-container {text-align: center;}#sk-container-id-1 div.sk-container {/* jupyter's `normalize.less` sets `[hidden] { display: none; }` but bootstrap.min.css set `[hidden] { display: none !important; }` so we also need the `!important` here to be able to override the default hidden behavior on the sphinx rendered scikit-learn.org. See: https://github.com/scikit-learn/scikit-learn/issues/21755 */display: inline-block !important;position: relative;}#sk-container-id-1 div.sk-text-repr-fallback {display: none;}</style><div id=\"sk-container-id-1\" class=\"sk-top-container\"><div class=\"sk-text-repr-fallback\"><pre>LinearRegression()</pre><b>In a Jupyter environment, please rerun this cell to show the HTML representation or trust the notebook. <br />On GitHub, the HTML representation is unable to render, please try loading this page with nbviewer.org.</b></div><div class=\"sk-container\" hidden><div class=\"sk-item\"><div class=\"sk-estimator sk-toggleable\"><input class=\"sk-toggleable__control sk-hidden--visually\" id=\"sk-estimator-id-1\" type=\"checkbox\" checked><label for=\"sk-estimator-id-1\" class=\"sk-toggleable__label sk-toggleable__label-arrow\">LinearRegression</label><div class=\"sk-toggleable__content\"><pre>LinearRegression()</pre></div></div></div></div></div>"
      ],
      "text/plain": [
       "LinearRegression()"
      ]
     },
     "execution_count": 14,
     "metadata": {},
     "output_type": "execute_result"
    }
   ],
   "source": [
    "regr_lin.fit(X,y)"
   ]
  },
  {
   "cell_type": "code",
   "execution_count": 15,
   "metadata": {},
   "outputs": [
    {
     "name": "stdout",
     "output_type": "stream",
     "text": [
      "Coefficients:  [1.61701852]\n",
      "interception:  0.27312968949421723\n"
     ]
    }
   ],
   "source": [
    "print('Coefficients: ', regr_lin.coef_)\n",
    "print('interception: ', regr_lin.intercept_)"
   ]
  },
  {
   "cell_type": "code",
   "execution_count": 17,
   "metadata": {},
   "outputs": [
    {
     "data": {
      "text/plain": [
       "array([ 0.27312969,  0.60313347,  0.93313726,  1.26314103,  1.59314481,\n",
       "        1.92314858,  2.25315238,  2.58315615,  2.91315993,  3.2431637 ,\n",
       "        3.57316749,  3.90317127,  4.23317504,  4.56317882,  4.89318261,\n",
       "        5.22318639,  5.55319016,  5.88319395,  6.21319773,  6.54320151,\n",
       "        6.87320528,  7.20320907,  7.53321285,  7.86321662,  8.1932204 ,\n",
       "        8.52322419,  8.85322797,  9.18323174,  9.51323552,  9.84323931,\n",
       "       10.17324309, 10.50324686, 10.83325064, 11.16325443, 11.4932582 ,\n",
       "       11.82326198, 12.15326577, 12.48326955, 12.81327332, 13.1432771 ,\n",
       "       13.47328089, 13.80328467, 14.13328844, 14.46329222, 14.79329601,\n",
       "       15.12329978, 15.45330356, 15.78330733, 16.11331113, 16.4433149 ])"
      ]
     },
     "execution_count": 17,
     "metadata": {},
     "output_type": "execute_result"
    }
   ],
   "source": [
    "W=regr_lin.coef_\n",
    "b=regr_lin.intercept_\n",
    "np.dot(X,W.T)+b"
   ]
  },
  {
   "cell_type": "code",
   "execution_count": 18,
   "metadata": {},
   "outputs": [
    {
     "data": {
      "text/plain": [
       "array([ 0.27312969,  0.60313347,  0.93313726,  1.26314103,  1.59314481,\n",
       "        1.92314858,  2.25315238,  2.58315615,  2.91315993,  3.2431637 ,\n",
       "        3.57316749,  3.90317127,  4.23317504,  4.56317882,  4.89318261,\n",
       "        5.22318639,  5.55319016,  5.88319395,  6.21319773,  6.54320151,\n",
       "        6.87320528,  7.20320907,  7.53321285,  7.86321662,  8.1932204 ,\n",
       "        8.52322419,  8.85322797,  9.18323174,  9.51323552,  9.84323931,\n",
       "       10.17324309, 10.50324686, 10.83325064, 11.16325443, 11.4932582 ,\n",
       "       11.82326198, 12.15326577, 12.48326955, 12.81327332, 13.1432771 ,\n",
       "       13.47328089, 13.80328467, 14.13328844, 14.46329222, 14.79329601,\n",
       "       15.12329978, 15.45330356, 15.78330733, 16.11331113, 16.4433149 ])"
      ]
     },
     "execution_count": 18,
     "metadata": {},
     "output_type": "execute_result"
    }
   ],
   "source": [
    "regr_lin.predict(X)"
   ]
  },
  {
   "cell_type": "code",
   "execution_count": 19,
   "metadata": {},
   "outputs": [
    {
     "name": "stdout",
     "output_type": "stream",
     "text": [
      "0.26267606969489105\n"
     ]
    },
    {
     "data": {
      "image/png": "[encoded data removed]",
      "text/plain": [
       "<Figure size 640x480 with 1 Axes>"
      ]
     },
     "metadata": {},
     "output_type": "display_data"
    }
   ],
   "source": [
    "Y=regr_lin.predict(X)\n",
    "plt.scatter(x,y)\n",
    "plt.plot(x,Y , color='r')\n",
    "mse = np.sum((Y-y)**2) / len(y)\n",
    "print(mse)"
   ]
  },
  {
   "cell_type": "code",
   "execution_count": 20,
   "metadata": {},
   "outputs": [
    {
     "name": "stdout",
     "output_type": "stream",
     "text": [
      "(50,)\n",
      "(50, 5)\n",
      "Coefficients:  [ 9.91534266e-01  4.72763706e-01 -1.21832370e-01  1.30863495e-02\n",
      " -5.04505616e-04]\n",
      "interception:  0.33830252363562785\n"
     ]
    }
   ],
   "source": [
    "#多項式\n",
    "print(x.shape)\n",
    "X_poly = np.array([[k, k**2, k**3, k**4, k**5] for k in x])  \n",
    "print(X_poly.shape)\n",
    "\n",
    "regr_poly = LinearRegression()\n",
    "regr_poly.fit(X_poly, y)\n",
    "\n",
    "print('Coefficients: ', regr_poly.coef_)\n",
    "print('interception: ', regr_poly.intercept_)"
   ]
  },
  {
   "cell_type": "code",
   "execution_count": 21,
   "metadata": {},
   "outputs": [
    {
     "data": {
      "text/plain": [
       "[<matplotlib.lines.Line2D at 0x1d071e22850>]"
      ]
     },
     "execution_count": 21,
     "metadata": {},
     "output_type": "execute_result"
    },
    {
     "data": {
      "image/png": "[encoded data removed]",
      "text/plain": [
       "<Figure size 640x480 with 1 Axes>"
      ]
     },
     "metadata": {},
     "output_type": "display_data"
    }
   ],
   "source": [
    "plt.scatter(x,y)\n",
    "plt.plot(x, regr_poly.predict(X_poly), 'r')"
   ]
  },
  {
   "cell_type": "markdown",
   "metadata": {},
   "source": [
    "## 進階題 - 切割資料集分別做訓練與預測(訓練資料80%、測試資料20%)\n"
   ]
  },
  {
   "cell_type": "code",
   "execution_count": 37,
   "metadata": {},
   "outputs": [],
   "source": [
    "%matplotlib inline\n",
    "import numpy as np\n",
    "import matplotlib.pyplot as plt\n",
    "\n",
    "x = np.array([ 0.        ,  0.20408163,  0.40816327,  0.6122449 ,  0.81632653,\n",
    "        1.02040816,  1.2244898 ,  1.42857143,  1.63265306,  1.83673469,\n",
    "        2.04081633,  2.24489796,  2.44897959,  2.65306122,  2.85714286,\n",
    "        3.06122449,  3.26530612,  3.46938776,  3.67346939,  3.87755102,\n",
    "        4.08163265,  4.28571429,  4.48979592,  4.69387755,  4.89795918,\n",
    "        5.10204082,  5.30612245,  5.51020408,  5.71428571,  5.91836735,\n",
    "        6.12244898,  6.32653061,  6.53061224,  6.73469388,  6.93877551,\n",
    "        7.14285714,  7.34693878,  7.55102041,  7.75510204,  7.95918367,\n",
    "        8.16326531,  8.36734694,  8.57142857,  8.7755102 ,  8.97959184,\n",
    "        9.18367347,  9.3877551 ,  9.59183673,  9.79591837, 10.        ])\n",
    "y = np.array([ 0.85848224, -0.10657947,  1.42771901,  0.53554778,  1.20216826,\n",
    "        1.81330509,  1.88362644,  2.23557653,  2.7384889 ,  3.41174583,\n",
    "        4.08573636,  3.82529502,  4.39723111,  4.8852381 ,  4.70092778,\n",
    "        4.66993962,  6.05133235,  5.44529881,  7.22571332,  6.79423911,\n",
    "        7.05424438,  7.00413058,  7.98149596,  7.00044008,  7.95903855,\n",
    "        9.96125238,  9.06040794,  9.56018295,  9.30035956,  9.26517614,\n",
    "        9.56401824, 10.07659844, 11.56755942, 11.38956185, 11.83586027,\n",
    "       12.45642786, 11.58403954, 11.60186428, 13.88486667, 13.35550112,\n",
    "       13.93938726, 13.31678277, 13.69551472, 14.76548676, 14.81731598,\n",
    "       14.9659187 , 15.19213921, 15.28195017, 15.97997265, 16.41258817])\n"
   ]
  },
  {
   "cell_type": "code",
   "execution_count": null,
   "metadata": {},
   "outputs": [],
   "source": [
    "#匯入在sklearn.linear_model套件裡面的LinearRegression模型\n",
    "#匯入在sklearn.model_selection套件裡面的train_test_split模組\n",
    "#切割數據集(訓練資料80%、測試資料20%，設定random_state=20)\n",
    "#畫出訓練資料集的matplotlib圖形m"
   ]
  },
  {
   "cell_type": "code",
   "execution_count": 38,
   "metadata": {},
   "outputs": [],
   "source": [
    "from sklearn.linear_model import LinearRegression\n",
    "from sklearn.model_selection import train_test_split"
   ]
  },
  {
   "cell_type": "code",
   "execution_count": 39,
   "metadata": {},
   "outputs": [
    {
     "name": "stdout",
     "output_type": "stream",
     "text": [
      "[ 8.16326531  3.46938776  3.67346939  0.          5.51020408  6.73469388\n",
      "  7.34693878  8.57142857  2.04081633  0.6122449   8.36734694  2.65306122\n",
      "  9.3877551   0.40816327  7.75510204  7.95918367  1.02040816  8.7755102\n",
      "  7.55102041  6.12244898  1.2244898   5.91836735  3.26530612  3.87755102\n",
      " 10.          8.97959184  4.28571429  6.53061224  6.93877551  1.42857143\n",
      "  4.48979592  2.24489796  4.08163265  1.83673469  9.79591837  5.71428571\n",
      "  6.32653061  3.06122449  5.30612245  7.14285714]\n"
     ]
    }
   ],
   "source": [
    "x_train, x_test, y_train, y_test = train_test_split(x, y, test_size=0.2, random_state=20)\n",
    "print(x_train)"
   ]
  },
  {
   "cell_type": "code",
   "execution_count": 40,
   "metadata": {},
   "outputs": [
    {
     "data": {
      "text/plain": [
       "array([ 0.85848224, -0.10657947,  1.42771901,  0.53554778,  1.20216826,\n",
       "        1.81330509,  1.88362644,  2.23557653,  2.7384889 ,  3.41174583,\n",
       "        4.08573636,  3.82529502,  4.39723111,  4.8852381 ,  4.70092778,\n",
       "        4.66993962,  6.05133235,  5.44529881,  7.22571332,  6.79423911,\n",
       "        7.05424438,  7.00413058,  7.98149596,  7.00044008,  7.95903855,\n",
       "        9.96125238,  9.06040794,  9.56018295,  9.30035956,  9.26517614,\n",
       "        9.56401824, 10.07659844, 11.56755942, 11.38956185, 11.83586027,\n",
       "       12.45642786, 11.58403954, 11.60186428, 13.88486667, 13.35550112,\n",
       "       13.93938726, 13.31678277, 13.69551472, 14.76548676, 14.81731598,\n",
       "       14.9659187 , 15.19213921, 15.28195017, 15.97997265, 16.41258817])"
      ]
     },
     "execution_count": 40,
     "metadata": {},
     "output_type": "execute_result"
    }
   ],
   "source": [
    "y"
   ]
  },
  {
   "cell_type": "code",
   "execution_count": 41,
   "metadata": {},
   "outputs": [
    {
     "data": {
      "text/plain": [
       "<matplotlib.collections.PathCollection at 0x1d0720bf8d0>"
      ]
     },
     "execution_count": 41,
     "metadata": {},
     "output_type": "execute_result"
    },
    {
     "data": {
      "image/png": "[encoded data removed]",
      "text/plain": [
       "<Figure size 640x480 with 1 Axes>"
      ]
     },
     "metadata": {},
     "output_type": "display_data"
    }
   ],
   "source": [
    "plt.scatter(x_train, y_train)"
   ]
  },
  {
   "cell_type": "markdown",
   "metadata": {},
   "source": [
    "## 用訓練資料來 fit 函數\n",
    "1. 只用訓練資料集的資料進行linear regression演算法<br>\n",
    "2. 並計算出訓練階段的MSE\n",
    "3. 畫出目標點(藍色)與預測點(紅色)的對應圖\n",
    "![](images/LR_train.PNG)"
   ]
  },
  {
   "cell_type": "code",
   "execution_count": 42,
   "metadata": {},
   "outputs": [
    {
     "name": "stdout",
     "output_type": "stream",
     "text": [
      "(40,)\n",
      "(40, 1)\n",
      "Coefficients:  [1.60659227]\n",
      "interception:  0.36802581786863087\n"
     ]
    }
   ],
   "source": [
    "regr = LinearRegression()\n",
    "print(x_train.shape)\n",
    "X_train = x_train.reshape(-1,1)\n",
    "print(X_train.shape)\n",
    "regr.fit(X_train,y_train)\n",
    "print('Coefficients: ', regr.coef_)\n",
    "print('interception: ', regr.intercept_)"
   ]
  },
  {
   "cell_type": "code",
   "execution_count": 43,
   "metadata": {},
   "outputs": [
    {
     "name": "stdout",
     "output_type": "stream",
     "text": [
      "0.2284495300761316\n"
     ]
    }
   ],
   "source": [
    "Y_train = regr.predict(X_train)\n",
    "mse = np.sum((Y_train-y_train)**2) / len(y_train)\n",
    "print(mse)"
   ]
  },
  {
   "cell_type": "code",
   "execution_count": 44,
   "metadata": {},
   "outputs": [
    {
     "data": {
      "text/plain": [
       "[<matplotlib.lines.Line2D at 0x1d06cb1ab90>]"
      ]
     },
     "execution_count": 44,
     "metadata": {},
     "output_type": "execute_result"
    },
    {
     "data": {
      "image/png": "[encoded data removed]",
      "text/plain": [
       "<Figure size 640x480 with 1 Axes>"
      ]
     },
     "metadata": {},
     "output_type": "display_data"
    }
   ],
   "source": [
    "plt.scatter(x_train, y_train)\n",
    "plt.plot(x_train, Y_train, 'r')"
   ]
  },
  {
   "cell_type": "code",
   "execution_count": null,
   "metadata": {},
   "outputs": [],
   "source": []
  },
  {
   "cell_type": "markdown",
   "metadata": {},
   "source": [
    "## 將訓練出來的函數預測測試集的X值\n",
    "1. 使用剛剛訓練出來的模型進行測試資料集的資料預測*注意reshape<br>\n",
    "使用X = 2.44897959，預測出來數值應該為 4.3025375<br>\n",
    "所有測試集資料\n",
    "$$\\widehat{y}=xw+b=w_{1}x_{1}+b$$"
   ]
  },
  {
   "cell_type": "code",
   "execution_count": 45,
   "metadata": {},
   "outputs": [
    {
     "name": "stdout",
     "output_type": "stream",
     "text": [
      "[ 4.3025375   4.95828946  1.67952971  2.99103361 15.12244466  0.69590179\n",
      "  8.56492518  8.23704919 15.7781966   7.90917322]\n"
     ]
    }
   ],
   "source": [
    "X_test = x_test.reshape(-1,1)\n",
    "Y_test = regr.predict(X_test)\n",
    "\n",
    "print(Y_test)"
   ]
  },
  {
   "cell_type": "code",
   "execution_count": 46,
   "metadata": {},
   "outputs": [
    {
     "name": "stdout",
     "output_type": "stream",
     "text": [
      "Coefficients:  [1.60659227]\n",
      "interception:  0.36802581786863087\n"
     ]
    }
   ],
   "source": [
    "#Y=WX+b\n",
    "W=regr.coef_\n",
    "b=regr.intercept_\n",
    "W*X_test+b\n",
    "print('Coefficients: ', regr.coef_)\n",
    "print('interception: ', regr.intercept_)"
   ]
  },
  {
   "cell_type": "code",
   "execution_count": 47,
   "metadata": {},
   "outputs": [
    {
     "name": "stdout",
     "output_type": "stream",
     "text": [
      "[4.3025375]\n"
     ]
    }
   ],
   "source": [
    "y1=W*2.44897959+b\n",
    "print(y1)"
   ]
  },
  {
   "cell_type": "markdown",
   "metadata": {},
   "source": [
    "2. 並計算出測試階段的MSE"
   ]
  },
  {
   "cell_type": "code",
   "execution_count": 48,
   "metadata": {},
   "outputs": [
    {
     "name": "stdout",
     "output_type": "stream",
     "text": [
      "0.4134407256586311\n"
     ]
    }
   ],
   "source": [
    "mse = np.sum((Y_test-y_test)**2) / len(y_test)\n",
    "print(mse)"
   ]
  },
  {
   "cell_type": "markdown",
   "metadata": {},
   "source": [
    "3. 畫出目標點(藍色)與預測點(紅色)的對應圖\n",
    "![](images/LR_test.PNG)"
   ]
  },
  {
   "cell_type": "code",
   "execution_count": 49,
   "metadata": {},
   "outputs": [
    {
     "data": {
      "text/plain": [
       "<matplotlib.legend.Legend at 0x1d072007110>"
      ]
     },
     "execution_count": 49,
     "metadata": {},
     "output_type": "execute_result"
    },
    {
     "data": {
      "image/png": "[encoded data removed]",
      "text/plain": [
       "<Figure size 640x480 with 1 Axes>"
      ]
     },
     "metadata": {},
     "output_type": "display_data"
    }
   ],
   "source": [
    "title='f(x)=1.6x+0.368'+',mse:'+str(round(mse,2))\n",
    "plt.title(title)\n",
    "plt.xlabel('x')\n",
    "plt.ylabel('y')\n",
    "#plt.grid(True)\n",
    "plt.scatter(x_test, y_test,alpha=0.8,label='Ground Truth')\n",
    "plt.scatter(x_test, Y_test, c='r', alpha=0.8,label='Predict')\n",
    "plt.legend()"
   ]
  },
  {
   "cell_type": "code",
   "execution_count": null,
   "metadata": {},
   "outputs": [],
   "source": []
  }
 ],
 "metadata": {
  "kernelspec": {
   "display_name": "Python 3 (ipykernel)",
   "language": "python",
   "name": "python3"
  },
  "language_info": {
   "codemirror_mode": {
    "name": "ipython",
    "version": 3
   },
   "file_extension": ".py",
   "mimetype": "text/x-python",
   "name": "python",
   "nbconvert_exporter": "python",
   "pygments_lexer": "ipython3",
   "version": "3.11.3"
  }
 },
 "nbformat": 4,
 "nbformat_minor": 4
}
